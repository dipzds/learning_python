{
 "cells": [
  {
   "cell_type": "code",
   "execution_count": 1,
   "metadata": {},
   "outputs": [],
   "source": [
    "# Insertion sort"
   ]
  },
  {
   "cell_type": "code",
   "execution_count": 7,
   "metadata": {},
   "outputs": [],
   "source": [
    "def insertion_sort(data):\n",
    "    \n",
    "    result = data.copy()\n",
    "    for i in range(0, len(result)):\n",
    "        for j in range(i, 0, -1):\n",
    "            \n",
    "            if result[j] < result[j-1]:\n",
    "                result[j], result[j-1] = result[j-1], result[j]\n",
    "  \n",
    "    return result"
   ]
  },
  {
   "cell_type": "code",
   "execution_count": 21,
   "metadata": {},
   "outputs": [
    {
     "name": "stdout",
     "output_type": "stream",
     "text": [
      "Before sorting: [12, 13, 1, 7, 3]\n",
      "After sorting: [1, 3, 7, 12, 13]\n"
     ]
    }
   ],
   "source": [
    "data = [12, 13, 1, 7, 3]\n",
    "result = insertion_sort(data)\n",
    "print(f'Before sorting: {data}')\n",
    "print('After sorting: {}'.format(result))"
   ]
  },
  {
   "cell_type": "code",
   "execution_count": 10,
   "metadata": {},
   "outputs": [],
   "source": [
    "# Merge sort"
   ]
  },
  {
   "cell_type": "code",
   "execution_count": 38,
   "metadata": {},
   "outputs": [],
   "source": [
    "# Part 1 - Merging "
   ]
  },
  {
   "cell_type": "code",
   "execution_count": 6,
   "metadata": {},
   "outputs": [],
   "source": [
    "def merge(a, b):\n",
    "    c = []\n",
    "    i = 0 # a index\n",
    "    j = 0 # b index\n",
    "    \n",
    "    while i < len(a) and j < len(b):\n",
    "        if a[i] < b[j]:\n",
    "            c.append(a[i])\n",
    "            i += 1\n",
    "        elif a[i] > b[j]:\n",
    "            c.append(b[j])\n",
    "            j += 1\n",
    "        else:\n",
    "            c.append(a[i])\n",
    "            c.append(b[j])\n",
    "            i += 1\n",
    "            j += 1\n",
    "    \n",
    "    if i < len(a):\n",
    "        c.extend(a[i:])\n",
    "        \n",
    "    if j < len(b):\n",
    "        c.extend(b[j:])\n",
    "    return c"
   ]
  },
  {
   "cell_type": "code",
   "execution_count": 2,
   "metadata": {},
   "outputs": [
    {
     "name": "stdout",
     "output_type": "stream",
     "text": [
      "[1, 3, 4]\n"
     ]
    }
   ],
   "source": [
    "print(merge([1,5], [3,4]))"
   ]
  },
  {
   "cell_type": "code",
   "execution_count": 25,
   "metadata": {},
   "outputs": [],
   "source": [
    "# Part 2 - Actual merge sort"
   ]
  },
  {
   "cell_type": "code",
   "execution_count": 5,
   "metadata": {},
   "outputs": [],
   "source": [
    "def merge_sort(data):\n",
    "    \n",
    "    if len(data) <= 1:\n",
    "        return data\n",
    "    \n",
    "    middle = len(data) // 2 #takes integer value in the quotient\n",
    "    left = merge_sort(data[:middle])\n",
    "    right = merge_sort(data[middle:])\n",
    "    \n",
    "    result = merge(left, right)\n",
    "    \n",
    "    return result    "
   ]
  },
  {
   "cell_type": "code",
   "execution_count": 24,
   "metadata": {},
   "outputs": [
    {
     "name": "stdout",
     "output_type": "stream",
     "text": [
      "Before sorting: [12, 13, 1, 7, 3]\n",
      "\n",
      "After sorting: [1, 3, 7, 12, 13]\n"
     ]
    }
   ],
   "source": [
    "data = [12, 13, 1, 7, 3]\n",
    "result = merge_sort(data)\n",
    "print('Before sorting: {}\\n'.format(data))\n",
    "print(f'After sorting: {result}')"
   ]
  },
  {
   "cell_type": "code",
   "execution_count": 39,
   "metadata": {},
   "outputs": [],
   "source": [
    "import random"
   ]
  },
  {
   "cell_type": "code",
   "execution_count": 50,
   "metadata": {},
   "outputs": [
    {
     "data": {
      "text/plain": [
       "1"
      ]
     },
     "execution_count": 50,
     "metadata": {},
     "output_type": "execute_result"
    }
   ],
   "source": [
    "random.randint(0, 10)\n"
   ]
  },
  {
   "cell_type": "code",
   "execution_count": 51,
   "metadata": {},
   "outputs": [
    {
     "data": {
      "text/plain": [
       "7"
      ]
     },
     "execution_count": 51,
     "metadata": {},
     "output_type": "execute_result"
    }
   ],
   "source": [
    "random.seed(50)\n",
    "random.randint(0, 10)"
   ]
  },
  {
   "cell_type": "code",
   "execution_count": null,
   "metadata": {},
   "outputs": [],
   "source": []
  },
  {
   "cell_type": "code",
   "execution_count": 1,
   "metadata": {},
   "outputs": [],
   "source": [
    "# Tim Sort"
   ]
  },
  {
   "cell_type": "code",
   "execution_count": 29,
   "metadata": {},
   "outputs": [],
   "source": [
    "def tim_sort(data, run=10):\n",
    "    for x in range(0, len(data), run):\n",
    "        data[x:x+run] = insertion_sort(data[x:x+run])\n",
    "    \n",
    "    run_idx = run\n",
    "    \n",
    "    while run_idx < len(data):\n",
    "        for x in range(0, len(data), 2*run_idx):\n",
    "            data[x:x+2*run_idx] = merge(data[x:x+run_idx], data[x+run_idx: x+2*run_idx])\n",
    "            \n",
    "        run_idx = run_idx * 2\n",
    "    return data\n"
   ]
  },
  {
   "cell_type": "code",
   "execution_count": 31,
   "metadata": {},
   "outputs": [
    {
     "name": "stdout",
     "output_type": "stream",
     "text": [
      "Unsorted list: [39, 16, 47, 22, 50, 44, 47, 41, 33, 1, 29, 49, 15, 41, 3, 10, 7, 23, 30, 15, 24, 34, 6, 36, 15, 0, 46, 13, 26, 17, 11, 49, 24, 10, 48, 4, 8, 39, 39, 28, 8, 8, 0, 0, 13, 49, 13, 10, 10, 18, 20, 12, 34, 43, 40, 13, 11, 44, 12, 24, 19, 1, 23, 26, 10, 9, 16, 4, 21, 19, 38, 37, 0, 38, 43, 45, 21, 4, 19, 22, 19, 30, 44, 20, 11, 30, 30, 45, 11, 3, 16, 1, 47, 22, 25, 1, 35, 50, 26, 23]\n",
      "\n",
      "Sorted list:  [0, 0, 0, 0, 1, 1, 1, 1, 3, 3, 4, 4, 4, 6, 7, 8, 8, 8, 9, 10, 10, 10, 10, 10, 11, 11, 11, 11, 12, 12, 13, 13, 13, 13, 15, 15, 15, 16, 16, 16, 17, 18, 19, 19, 19, 19, 20, 20, 21, 21, 22, 22, 22, 23, 23, 23, 24, 24, 24, 25, 26, 26, 26, 28, 29, 30, 30, 30, 30, 33, 34, 34, 35, 36, 37, 38, 38, 39, 39, 39, 40, 41, 41, 43, 43, 44, 44, 44, 45, 45, 46, 47, 47, 47, 48, 49, 49, 49, 50, 50] \n",
      "\n"
     ]
    }
   ],
   "source": [
    "import random\n",
    "random.seed(5)\n",
    "a = []\n",
    "for i in range(100):\n",
    "    a.append(random.randint(0,50))\n",
    "    \n",
    "print(f'Unsorted list: {a}\\n')\n",
    "\n",
    "result = tim_sort(a)\n",
    "\n",
    "print('Sorted list: ', result, '\\n')"
   ]
  },
  {
   "cell_type": "code",
   "execution_count": null,
   "metadata": {},
   "outputs": [],
   "source": []
  }
 ],
 "metadata": {
  "kernelspec": {
   "display_name": "Python 3",
   "language": "python",
   "name": "python3"
  },
  "language_info": {
   "codemirror_mode": {
    "name": "ipython",
    "version": 3
   },
   "file_extension": ".py",
   "mimetype": "text/x-python",
   "name": "python",
   "nbconvert_exporter": "python",
   "pygments_lexer": "ipython3",
   "version": "3.6.5"
  }
 },
 "nbformat": 4,
 "nbformat_minor": 2
}
