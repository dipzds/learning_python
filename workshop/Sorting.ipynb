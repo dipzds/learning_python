{
 "cells": [
  {
   "cell_type": "code",
   "execution_count": 1,
   "metadata": {},
   "outputs": [],
   "source": [
    "# Insertion sort"
   ]
  },
  {
   "cell_type": "code",
   "execution_count": 6,
   "metadata": {},
   "outputs": [],
   "source": [
    "def insertion_sort(data):\n",
    "    \n",
    "    result = data.copy()\n",
    "    for i in range(0, len(result)):\n",
    "        for j in range(i, 0, -1):\n",
    "            \n",
    "            if result[j] < result[j-1]:\n",
    "                result[j], result[j-1] = result[j-1], result[j]\n",
    "    return result"
   ]
  },
  {
   "cell_type": "code",
   "execution_count": 9,
   "metadata": {},
   "outputs": [
    {
     "name": "stdout",
     "output_type": "stream",
     "text": [
      "[12, 13, 1, 7, 3]\n",
      "[1, 3, 7, 12, 13]\n"
     ]
    }
   ],
   "source": [
    "data = [12, 13, 1, 7, 3]\n",
    "result = insertion_sort(data)\n",
    "print(data)\n",
    "print(result)"
   ]
  },
  {
   "cell_type": "code",
   "execution_count": 10,
   "metadata": {},
   "outputs": [],
   "source": [
    "# Merge sort"
   ]
  },
  {
   "cell_type": "code",
   "execution_count": 38,
   "metadata": {},
   "outputs": [],
   "source": [
    "# Part 1 - Merging "
   ]
  },
  {
   "cell_type": "code",
   "execution_count": 16,
   "metadata": {},
   "outputs": [],
   "source": [
    "def merge(a, b):\n",
    "    c = []\n",
    "    i = 0 # a index\n",
    "    j = 0 # b index\n",
    "    \n",
    "    while i < len(a) and j < len(b):\n",
    "        if a[i] < b[j]:\n",
    "            c.append(a[i])\n",
    "            i += 1\n",
    "        elif a[i] > b[j]:\n",
    "            c.append(b[j])\n",
    "            j += 1\n",
    "        else:\n",
    "            c.append(a[i])\n",
    "            c.append(b[j])\n",
    "            i += 1\n",
    "            j += 1\n",
    "    \n",
    "    if i < len(a):\n",
    "        c.extend(a[i:])\n",
    "        \n",
    "    if j < len(b):\n",
    "        c.extend(b[j:])\n",
    "    return c"
   ]
  },
  {
   "cell_type": "code",
   "execution_count": 23,
   "metadata": {},
   "outputs": [
    {
     "name": "stdout",
     "output_type": "stream",
     "text": [
      "[1, 3, 4, 5]\n"
     ]
    }
   ],
   "source": [
    "print(merge([1,5], [3,4]))"
   ]
  },
  {
   "cell_type": "code",
   "execution_count": 25,
   "metadata": {},
   "outputs": [],
   "source": [
    "# Part 2 - Actual merge sort"
   ]
  },
  {
   "cell_type": "code",
   "execution_count": 17,
   "metadata": {},
   "outputs": [],
   "source": [
    "def merge_sort(data):\n",
    "    \n",
    "    if len(data) <= 1:\n",
    "        return data\n",
    "    \n",
    "    middle = len(data) // 2 #takes integer value in the quotient\n",
    "    left = merge_sort(data[:middle])\n",
    "    right = merge_sort(data[middle:])\n",
    "    \n",
    "    result = merge(left, right)\n",
    "    \n",
    "    return result    "
   ]
  },
  {
   "cell_type": "code",
   "execution_count": 37,
   "metadata": {},
   "outputs": [
    {
     "name": "stdout",
     "output_type": "stream",
     "text": [
      "[1, 3, 7, 12, 13]\n"
     ]
    }
   ],
   "source": [
    "data = [12, 13, 1, 7, 3]\n",
    "result = merge_sort(data)\n",
    "print(result)"
   ]
  },
  {
   "cell_type": "code",
   "execution_count": 39,
   "metadata": {},
   "outputs": [],
   "source": [
    "import random"
   ]
  },
  {
   "cell_type": "code",
   "execution_count": 50,
   "metadata": {},
   "outputs": [
    {
     "data": {
      "text/plain": [
       "1"
      ]
     },
     "execution_count": 50,
     "metadata": {},
     "output_type": "execute_result"
    }
   ],
   "source": [
    "random.randint(0, 10)\n"
   ]
  },
  {
   "cell_type": "code",
   "execution_count": 51,
   "metadata": {},
   "outputs": [
    {
     "data": {
      "text/plain": [
       "7"
      ]
     },
     "execution_count": 51,
     "metadata": {},
     "output_type": "execute_result"
    }
   ],
   "source": [
    "random.seed(50)\n",
    "random.randint(0, 10)"
   ]
  },
  {
   "cell_type": "code",
   "execution_count": 33,
   "metadata": {},
   "outputs": [
    {
     "name": "stdout",
     "output_type": "stream",
     "text": [
      "[79, 32, 94, 45, 88, 94, 83, 67, 3, 59, 99, 31, 83, 6, 20, 14, 47, 60, 31, 48, 69, 13, 73, 31, 1, 93, 27, 52, 35, 23, 98, 49, 20, 97, 9, 17, 79, 79, 56, 16, 16, 0, 0, 26, 99, 27, 21, 21, 37, 40, 25, 69, 86, 80, 26, 23, 88, 25, 49, 38, 2, 46, 53, 21, 18, 33, 8, 42, 38, 77, 75, 0, 76, 86, 90, 43, 8, 39, 45, 39, 61, 89, 40, 23, 61, 60, 90, 22, 7, 32, 2, 95, 45, 51, 2, 70, 53, 46, 48, 74]\n",
      "[3, 32, 45, 59, 67, 79, 83, 88, 94, 94, 6, 14, 20, 31, 31, 47, 48, 60, 83, 99, 1, 13, 23, 27, 31, 35, 52, 69, 73, 93, 9, 16, 17, 20, 49, 56, 79, 79, 97, 98, 0, 0, 16, 21, 21, 26, 27, 37, 40, 99, 23, 25, 25, 26, 38, 49, 69, 80, 86, 88, 2, 8, 18, 21, 33, 38, 42, 46, 53, 77, 0, 8, 39, 39, 43, 45, 75, 76, 86, 90, 7, 22, 23, 32, 40, 60, 61, 61, 89, 90, 2, 2, 45, 46, 48, 51, 53, 70, 74, 95]\n",
      "[0, 0, 0, 1, 2, 2, 2, 3, 6, 7, 8, 8, 9, 13, 14, 16, 16, 17, 18, 20, 20, 21, 21, 21, 22, 23, 23, 23, 25, 25, 26, 26, 27, 27, 31, 31, 31, 32, 32, 33, 35, 37, 38, 38, 39, 39, 40, 40, 42, 43, 45, 45, 45, 46, 46, 47, 48, 48, 49, 49, 51, 52, 53, 53, 56, 59, 60, 60, 61, 61, 67, 69, 69, 70, 73, 74, 75, 76, 77, 79, 79, 79, 80, 83, 83, 86, 86, 88, 88, 89, 90, 90, 93, 94, 94, 95, 97, 98, 99, 99]\n"
     ]
    }
   ],
   "source": [
    "random.seed(5)\n",
    "a = []\n",
    "for i in range(100):\n",
    "    a.append(random.randint(0,99))\n",
    "print(a)\n",
    "\n",
    "result = tim_sort(a)\n",
    "\n",
    "print(result)"
   ]
  },
  {
   "cell_type": "code",
   "execution_count": 1,
   "metadata": {},
   "outputs": [],
   "source": [
    "# Tim Sort"
   ]
  },
  {
   "cell_type": "code",
   "execution_count": 34,
   "metadata": {},
   "outputs": [],
   "source": [
    "def tim_sort(data, run=10):\n",
    "    for x in range(0, len(data), run):\n",
    "        data[x:x+run] = insertion_sort(data[x:x+run])\n",
    "    print(data)\n",
    "    \n",
    "    run_idx = run\n",
    "    \n",
    "    while run_idx < len(data):\n",
    "        for x in range(0, len(data), 2*run_idx):\n",
    "            data[x:x+2*run_idx] = merge(data[x:x+run_idx], data[x+run_idx: x+2*run_idx])\n",
    "            \n",
    "        run_idx = run_idx * 2\n",
    "    return data\n"
   ]
  },
  {
   "cell_type": "code",
   "execution_count": null,
   "metadata": {},
   "outputs": [],
   "source": []
  }
 ],
 "metadata": {
  "kernelspec": {
   "display_name": "Python 3",
   "language": "python",
   "name": "python3"
  },
  "language_info": {
   "codemirror_mode": {
    "name": "ipython",
    "version": 3
   },
   "file_extension": ".py",
   "mimetype": "text/x-python",
   "name": "python",
   "nbconvert_exporter": "python",
   "pygments_lexer": "ipython3",
   "version": "3.6.5"
  }
 },
 "nbformat": 4,
 "nbformat_minor": 2
}
