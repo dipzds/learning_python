{
 "cells": [
  {
   "cell_type": "markdown",
   "metadata": {},
   "source": [
    "# Q. You are given a string and your task is to swap cases. In other words, convert all lowercase letters to uppercase letters and vice versa.\n",
    "\n",
    "input: 'This is mE 123'\n",
    "\n",
    "output: 'tHIS IS Me 123'"
   ]
  },
  {
   "cell_type": "code",
   "execution_count": 9,
   "metadata": {},
   "outputs": [
    {
     "data": {
      "text/plain": [
       "'tHIS IS Me 123'"
      ]
     },
     "execution_count": 9,
     "metadata": {},
     "output_type": "execute_result"
    }
   ],
   "source": [
    "def swap_case(my_input):\n",
    "    output = \"\"\n",
    "    for char in my_input:\n",
    "        if char.islower():\n",
    "            output += char.upper()\n",
    "        else:\n",
    "            output += char.lower()\n",
    "    return output\n",
    "\n",
    "sentence =input(\"Input sentence: \")\n",
    "swap_case(sentence)"
   ]
  },
  {
   "cell_type": "code",
   "execution_count": 11,
   "metadata": {},
   "outputs": [
    {
     "name": "stdout",
     "output_type": "stream",
     "text": [
      "tHIS IS Me 123\n"
     ]
    }
   ],
   "source": [
    "#alternative way\n",
    "sentence =input(\"Input sentence: \")\n",
    "#list comprehension\n",
    "convert = [char.upper() if char.islower() else char.lower() for char in sentence]\n",
    "print(''.join(convert))"
   ]
  },
  {
   "cell_type": "markdown",
   "metadata": {},
   "source": [
    "# Q. The user enters a string and a substring. You have to print the number of times that the substring occurs in the given string. String traversal will take place from left to right, not from right to left.\n",
    "\n",
    "Input: \n",
    "\n",
    "ABCDCDC\n",
    "\n",
    "CDC\n",
    "\n",
    "Output:\n",
    "\n",
    "2"
   ]
  },
  {
   "cell_type": "code",
   "execution_count": 12,
   "metadata": {},
   "outputs": [
    {
     "name": "stdout",
     "output_type": "stream",
     "text": [
      "2\n"
     ]
    }
   ],
   "source": [
    "def count_substring(my_input, sub):\n",
    "    count = 0\n",
    "    input_len = len(my_input)\n",
    "    sub_len = len(sub)\n",
    "    \n",
    "    for ch in range(0, input_len):\n",
    "        if my_input[ch] == sub[0]:\n",
    "            if my_input[ch:ch + sub_len] == sub:\n",
    "                count += 1\n",
    "    return count\n",
    "\n",
    "x = input(\"Enter a string : \")\n",
    "y = input(\"Enter a sub string : \")\n",
    "print(count_substring(x,y))"
   ]
  },
  {
   "cell_type": "markdown",
   "metadata": {},
   "source": [
    "# Q. Write a class in which it's one method accepts a string from consloe and another method to print the characters that have even indices.\n",
    "\n",
    "Example: If the following string is given as input to the program: H1e2l3l4o5w6o7r8l9d\n",
    "\n",
    "Then,the oputput of the program should be:\n",
    "\n",
    "Helloworld"
   ]
  },
  {
   "cell_type": "code",
   "execution_count": 13,
   "metadata": {},
   "outputs": [
    {
     "name": "stdout",
     "output_type": "stream",
     "text": [
      "Output :  Helloworld\n"
     ]
    }
   ],
   "source": [
    "class Program:\n",
    "    def __init__(self):\n",
    "        self.my_input = \"\"\n",
    "        self.my_output = \"\"\n",
    "        \n",
    "    def take_input(self):\n",
    "        self.my_input = input(\"Enter a sentence : \")\n",
    "        \n",
    "    def print_even_indices(self):\n",
    "        for ch in self.my_input:\n",
    "            if self.my_input.index(ch) % 2 == 0:\n",
    "                self.my_output += ch\n",
    "        print(\"Output : \",self.my_output)\n",
    "        \n",
    "def func():\n",
    "    p = Program()\n",
    "    p.take_input()\n",
    "    p.print_even_indices()\n",
    "    \n",
    "func()"
   ]
  },
  {
   "cell_type": "markdown",
   "metadata": {},
   "source": [
    "# Q. Write a Python program to replace last value of tuple in a list.\n",
    "Sample list: [(10, 20, 40), (40, 50, 60), (70, 80, 90)]\n",
    "\n",
    "Expected Output: [(10, 20, 100), (40, 50, 100), (70, 80, 100)]"
   ]
  },
  {
   "cell_type": "code",
   "execution_count": 16,
   "metadata": {},
   "outputs": [
    {
     "name": "stdout",
     "output_type": "stream",
     "text": [
      "[(10, 20, 100), (40, 50, 100), (70, 80, 100)]\n"
     ]
    }
   ],
   "source": [
    "sample_list = [(10, 20, 40), (40, 50, 60), (70, 80, 90)]\n",
    "output_list = [i[:-1] + (100,) for i in sample_list]\n",
    "print(output_list)"
   ]
  },
  {
   "cell_type": "code",
   "execution_count": 19,
   "metadata": {},
   "outputs": [
    {
     "data": {
      "text/plain": [
       "[(10, 20, 100), (40, 50, 100), (70, 80, 100)]"
      ]
     },
     "execution_count": 19,
     "metadata": {},
     "output_type": "execute_result"
    }
   ],
   "source": [
    "#alternative way\n",
    "sample_list = [(10, 20, 40), (40, 50, 60), (70, 80, 90)]\n",
    "new_list = []\n",
    "for tup in sample_list:\n",
    "    n = tup[:-1]  + (100,)\n",
    "    new_list.append(n)\n",
    "new_list"
   ]
  },
  {
   "cell_type": "code",
   "execution_count": null,
   "metadata": {},
   "outputs": [],
   "source": []
  }
 ],
 "metadata": {
  "kernelspec": {
   "display_name": "Python 3",
   "language": "python",
   "name": "python3"
  },
  "language_info": {
   "codemirror_mode": {
    "name": "ipython",
    "version": 3
   },
   "file_extension": ".py",
   "mimetype": "text/x-python",
   "name": "python",
   "nbconvert_exporter": "python",
   "pygments_lexer": "ipython3",
   "version": "3.6.5"
  }
 },
 "nbformat": 4,
 "nbformat_minor": 2
}
